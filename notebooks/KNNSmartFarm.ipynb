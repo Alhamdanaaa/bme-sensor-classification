{
 "cells": [
  {
   "cell_type": "code",
   "execution_count": null,
   "id": "cf4f9f8d",
   "metadata": {},
   "outputs": [],
   "source": [
    "from sklearn.model_selection import StratifiedKFold, cross_val_score\n",
    "from sklearn.metrics import accuracy_score\n",
    "from sklearn.preprocessing import StandardScaler\n",
    "from sklearn.neighbors import KNeighborsClassifier\n",
    "from imblearn.over_sampling import SMOTE\n",
    "from imblearn.pipeline import Pipeline\n",
    "import numpy as np\n",
    "import pandas as pd\n",
    "from sklearn.model_selection import train_test_split"
   ]
  },
  {
   "cell_type": "code",
   "execution_count": 2,
   "id": "f02ef14c",
   "metadata": {},
   "outputs": [],
   "source": [
    "# Load data\n",
    "data = pd.read_csv('../data/smart_farm_zoning_dataset.csv')\n",
    "X = data[['temperature', 'pressure', 'altitude']]  \n",
    "y = data['zone_class']\n"
   ]
  },
  {
   "cell_type": "code",
   "execution_count": 3,
   "id": "2044a56b",
   "metadata": {},
   "outputs": [
    {
     "data": {
      "text/html": [
       "<div>\n",
       "<style scoped>\n",
       "    .dataframe tbody tr th:only-of-type {\n",
       "        vertical-align: middle;\n",
       "    }\n",
       "\n",
       "    .dataframe tbody tr th {\n",
       "        vertical-align: top;\n",
       "    }\n",
       "\n",
       "    .dataframe thead th {\n",
       "        text-align: right;\n",
       "    }\n",
       "</style>\n",
       "<table border=\"1\" class=\"dataframe\">\n",
       "  <thead>\n",
       "    <tr style=\"text-align: right;\">\n",
       "      <th></th>\n",
       "      <th>temperature</th>\n",
       "      <th>altitude</th>\n",
       "      <th>pressure</th>\n",
       "      <th>zone_class</th>\n",
       "    </tr>\n",
       "  </thead>\n",
       "  <tbody>\n",
       "    <tr>\n",
       "      <th>0</th>\n",
       "      <td>26.00</td>\n",
       "      <td>497.6</td>\n",
       "      <td>959.96</td>\n",
       "      <td>Cool_Humid</td>\n",
       "    </tr>\n",
       "    <tr>\n",
       "      <th>1</th>\n",
       "      <td>22.89</td>\n",
       "      <td>616.0</td>\n",
       "      <td>945.00</td>\n",
       "      <td>Cool_Humid</td>\n",
       "    </tr>\n",
       "    <tr>\n",
       "      <th>2</th>\n",
       "      <td>25.62</td>\n",
       "      <td>511.0</td>\n",
       "      <td>955.29</td>\n",
       "      <td>Cool_Humid</td>\n",
       "    </tr>\n",
       "    <tr>\n",
       "      <th>3</th>\n",
       "      <td>33.40</td>\n",
       "      <td>189.4</td>\n",
       "      <td>995.00</td>\n",
       "      <td>Hot_Dry</td>\n",
       "    </tr>\n",
       "    <tr>\n",
       "      <th>4</th>\n",
       "      <td>32.72</td>\n",
       "      <td>0.5</td>\n",
       "      <td>1018.96</td>\n",
       "      <td>Hot_Dry</td>\n",
       "    </tr>\n",
       "    <tr>\n",
       "      <th>...</th>\n",
       "      <td>...</td>\n",
       "      <td>...</td>\n",
       "      <td>...</td>\n",
       "      <td>...</td>\n",
       "    </tr>\n",
       "    <tr>\n",
       "      <th>7995</th>\n",
       "      <td>30.47</td>\n",
       "      <td>229.0</td>\n",
       "      <td>995.00</td>\n",
       "      <td>Hot_Dry</td>\n",
       "    </tr>\n",
       "    <tr>\n",
       "      <th>7996</th>\n",
       "      <td>31.96</td>\n",
       "      <td>169.0</td>\n",
       "      <td>1023.73</td>\n",
       "      <td>Unstable</td>\n",
       "    </tr>\n",
       "    <tr>\n",
       "      <th>7997</th>\n",
       "      <td>26.00</td>\n",
       "      <td>200.0</td>\n",
       "      <td>986.33</td>\n",
       "      <td>Cool_Humid</td>\n",
       "    </tr>\n",
       "    <tr>\n",
       "      <th>7998</th>\n",
       "      <td>27.59</td>\n",
       "      <td>31.4</td>\n",
       "      <td>993.64</td>\n",
       "      <td>Unstable</td>\n",
       "    </tr>\n",
       "    <tr>\n",
       "      <th>7999</th>\n",
       "      <td>18.70</td>\n",
       "      <td>97.4</td>\n",
       "      <td>985.57</td>\n",
       "      <td>Unstable</td>\n",
       "    </tr>\n",
       "  </tbody>\n",
       "</table>\n",
       "<p>8000 rows × 4 columns</p>\n",
       "</div>"
      ],
      "text/plain": [
       "      temperature  altitude  pressure  zone_class\n",
       "0           26.00     497.6    959.96  Cool_Humid\n",
       "1           22.89     616.0    945.00  Cool_Humid\n",
       "2           25.62     511.0    955.29  Cool_Humid\n",
       "3           33.40     189.4    995.00     Hot_Dry\n",
       "4           32.72       0.5   1018.96     Hot_Dry\n",
       "...           ...       ...       ...         ...\n",
       "7995        30.47     229.0    995.00     Hot_Dry\n",
       "7996        31.96     169.0   1023.73    Unstable\n",
       "7997        26.00     200.0    986.33  Cool_Humid\n",
       "7998        27.59      31.4    993.64    Unstable\n",
       "7999        18.70      97.4    985.57    Unstable\n",
       "\n",
       "[8000 rows x 4 columns]"
      ]
     },
     "execution_count": 3,
     "metadata": {},
     "output_type": "execute_result"
    }
   ],
   "source": [
    "data"
   ]
  },
  {
   "cell_type": "code",
   "execution_count": 4,
   "id": "776c4230",
   "metadata": {},
   "outputs": [],
   "source": [
    "# StandardScaler + SMOTE + KNN\n",
    "pipeline = Pipeline([\n",
    "    ('scaler', StandardScaler()),\n",
    "    ('smote', SMOTE(random_state=42)),\n",
    "    ('knn', KNeighborsClassifier(n_neighbors=3))  # Ganti k jika mau eksperimen\n",
    "])"
   ]
  },
  {
   "cell_type": "code",
   "execution_count": 5,
   "id": "654fad54",
   "metadata": {},
   "outputs": [
    {
     "name": "stdout",
     "output_type": "stream",
     "text": [
      "Cross-validation scores: [0.9575   0.95625  0.96     0.964375 0.95875 ]\n",
      "Mean CV accuracy: 0.959375\n"
     ]
    }
   ],
   "source": [
    "cv = StratifiedKFold(n_splits=5, shuffle=True, random_state=42)\n",
    "scores = cross_val_score(pipeline, X, y, cv=cv)\n",
    "\n",
    "print(\"Cross-validation scores:\", scores)\n",
    "print(\"Mean CV accuracy:\", np.mean(scores))"
   ]
  },
  {
   "cell_type": "code",
   "execution_count": 6,
   "id": "971bb08a",
   "metadata": {},
   "outputs": [],
   "source": [
    "X_train, X_test, y_train, y_test = train_test_split(X, y, test_size=0.2, random_state=42)"
   ]
  },
  {
   "cell_type": "code",
   "execution_count": 7,
   "id": "c0f71ff2",
   "metadata": {},
   "outputs": [
    {
     "name": "stdout",
     "output_type": "stream",
     "text": [
      "Accuracy on entire dataset: 0.9575\n"
     ]
    }
   ],
   "source": [
    "pipeline.fit(X_train, y_train)\n",
    "y_pred = pipeline.predict(X_test)\n",
    "acc = accuracy_score(y_test, y_pred)\n",
    "print(\"Accuracy on entire dataset:\", acc)"
   ]
  },
  {
   "cell_type": "code",
   "execution_count": 8,
   "id": "f86d7945",
   "metadata": {},
   "outputs": [
    {
     "data": {
      "text/plain": [
       "['knn_model_smart_farm.pkl']"
      ]
     },
     "execution_count": 8,
     "metadata": {},
     "output_type": "execute_result"
    }
   ],
   "source": [
    "import joblib\n",
    "\n",
    "joblib.dump(pipeline, 'knn_model_smart_farm.pkl')\n"
   ]
  },
  {
   "cell_type": "code",
   "execution_count": 9,
   "id": "5930078a",
   "metadata": {},
   "outputs": [
    {
     "name": "stdout",
     "output_type": "stream",
     "text": [
      "Hasil Prediksi: Hot_Dry\n"
     ]
    },
    {
     "name": "stderr",
     "output_type": "stream",
     "text": [
      "c:\\Users\\WINDOWS 10\\anaconda3\\Lib\\site-packages\\sklearn\\base.py:493: UserWarning: X does not have valid feature names, but StandardScaler was fitted with feature names\n",
      "  warnings.warn(\n"
     ]
    }
   ],
   "source": [
    "# Load model\n",
    "model_loaded = joblib.load('knn_model_smart_farm.pkl')\n",
    "\n",
    "# Data baru\n",
    "data_baru = [[30.5, 1013.25, 10.0]]  # contoh: suhu, tekanan, ketinggian\n",
    "\n",
    "# Prediksi\n",
    "prediksi = model_loaded.predict(data_baru)\n",
    "print(\"Hasil Prediksi:\", prediksi[0])\n"
   ]
  }
 ],
 "metadata": {
  "kernelspec": {
   "display_name": "base",
   "language": "python",
   "name": "python3"
  },
  "language_info": {
   "codemirror_mode": {
    "name": "ipython",
    "version": 3
   },
   "file_extension": ".py",
   "mimetype": "text/x-python",
   "name": "python",
   "nbconvert_exporter": "python",
   "pygments_lexer": "ipython3",
   "version": "3.12.4"
  }
 },
 "nbformat": 4,
 "nbformat_minor": 5
}
