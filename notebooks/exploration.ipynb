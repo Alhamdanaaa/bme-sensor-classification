{
 "cells": [
  {
   "cell_type": "code",
   "execution_count": 1,
   "id": "3e473aa9",
   "metadata": {},
   "outputs": [],
   "source": [
    "import pandas as pd\n",
    "import numpy\n",
    "import matplotlib.pyplot as plt"
   ]
  },
  {
   "cell_type": "code",
   "execution_count": 2,
   "id": "944018ca",
   "metadata": {},
   "outputs": [
    {
     "data": {
      "text/html": [
       "<div>\n",
       "<style scoped>\n",
       "    .dataframe tbody tr th:only-of-type {\n",
       "        vertical-align: middle;\n",
       "    }\n",
       "\n",
       "    .dataframe tbody tr th {\n",
       "        vertical-align: top;\n",
       "    }\n",
       "\n",
       "    .dataframe thead th {\n",
       "        text-align: right;\n",
       "    }\n",
       "</style>\n",
       "<table border=\"1\" class=\"dataframe\">\n",
       "  <thead>\n",
       "    <tr style=\"text-align: right;\">\n",
       "      <th></th>\n",
       "      <th>temperature</th>\n",
       "      <th>altitude</th>\n",
       "      <th>pressure</th>\n",
       "      <th>zone_class</th>\n",
       "    </tr>\n",
       "  </thead>\n",
       "  <tbody>\n",
       "    <tr>\n",
       "      <th>0</th>\n",
       "      <td>26.00</td>\n",
       "      <td>497.6</td>\n",
       "      <td>959.96</td>\n",
       "      <td>Cool_Humid</td>\n",
       "    </tr>\n",
       "    <tr>\n",
       "      <th>1</th>\n",
       "      <td>22.89</td>\n",
       "      <td>616.0</td>\n",
       "      <td>945.00</td>\n",
       "      <td>Cool_Humid</td>\n",
       "    </tr>\n",
       "    <tr>\n",
       "      <th>2</th>\n",
       "      <td>25.62</td>\n",
       "      <td>511.0</td>\n",
       "      <td>955.29</td>\n",
       "      <td>Cool_Humid</td>\n",
       "    </tr>\n",
       "    <tr>\n",
       "      <th>3</th>\n",
       "      <td>33.40</td>\n",
       "      <td>189.4</td>\n",
       "      <td>995.00</td>\n",
       "      <td>Hot_Dry</td>\n",
       "    </tr>\n",
       "    <tr>\n",
       "      <th>4</th>\n",
       "      <td>32.72</td>\n",
       "      <td>0.5</td>\n",
       "      <td>1018.96</td>\n",
       "      <td>Hot_Dry</td>\n",
       "    </tr>\n",
       "    <tr>\n",
       "      <th>...</th>\n",
       "      <td>...</td>\n",
       "      <td>...</td>\n",
       "      <td>...</td>\n",
       "      <td>...</td>\n",
       "    </tr>\n",
       "    <tr>\n",
       "      <th>7995</th>\n",
       "      <td>30.47</td>\n",
       "      <td>229.0</td>\n",
       "      <td>995.00</td>\n",
       "      <td>Hot_Dry</td>\n",
       "    </tr>\n",
       "    <tr>\n",
       "      <th>7996</th>\n",
       "      <td>31.96</td>\n",
       "      <td>169.0</td>\n",
       "      <td>1023.73</td>\n",
       "      <td>Unstable</td>\n",
       "    </tr>\n",
       "    <tr>\n",
       "      <th>7997</th>\n",
       "      <td>26.00</td>\n",
       "      <td>200.0</td>\n",
       "      <td>986.33</td>\n",
       "      <td>Cool_Humid</td>\n",
       "    </tr>\n",
       "    <tr>\n",
       "      <th>7998</th>\n",
       "      <td>27.59</td>\n",
       "      <td>31.4</td>\n",
       "      <td>993.64</td>\n",
       "      <td>Unstable</td>\n",
       "    </tr>\n",
       "    <tr>\n",
       "      <th>7999</th>\n",
       "      <td>18.70</td>\n",
       "      <td>97.4</td>\n",
       "      <td>985.57</td>\n",
       "      <td>Unstable</td>\n",
       "    </tr>\n",
       "  </tbody>\n",
       "</table>\n",
       "<p>8000 rows × 4 columns</p>\n",
       "</div>"
      ],
      "text/plain": [
       "      temperature  altitude  pressure  zone_class\n",
       "0           26.00     497.6    959.96  Cool_Humid\n",
       "1           22.89     616.0    945.00  Cool_Humid\n",
       "2           25.62     511.0    955.29  Cool_Humid\n",
       "3           33.40     189.4    995.00     Hot_Dry\n",
       "4           32.72       0.5   1018.96     Hot_Dry\n",
       "...           ...       ...       ...         ...\n",
       "7995        30.47     229.0    995.00     Hot_Dry\n",
       "7996        31.96     169.0   1023.73    Unstable\n",
       "7997        26.00     200.0    986.33  Cool_Humid\n",
       "7998        27.59      31.4    993.64    Unstable\n",
       "7999        18.70      97.4    985.57    Unstable\n",
       "\n",
       "[8000 rows x 4 columns]"
      ]
     },
     "execution_count": 2,
     "metadata": {},
     "output_type": "execute_result"
    }
   ],
   "source": [
    "data = pd.read_csv('../data/smart_farm_zoning_dataset.csv')\n",
    "data"
   ]
  },
  {
   "cell_type": "code",
   "execution_count": 3,
   "id": "01d1bb7e",
   "metadata": {},
   "outputs": [
    {
     "name": "stdout",
     "output_type": "stream",
     "text": [
      "<class 'pandas.core.frame.DataFrame'>\n",
      "RangeIndex: 8000 entries, 0 to 7999\n",
      "Data columns (total 4 columns):\n",
      " #   Column       Non-Null Count  Dtype  \n",
      "---  ------       --------------  -----  \n",
      " 0   temperature  8000 non-null   float64\n",
      " 1   altitude     8000 non-null   float64\n",
      " 2   pressure     8000 non-null   float64\n",
      " 3   zone_class   8000 non-null   object \n",
      "dtypes: float64(3), object(1)\n",
      "memory usage: 250.1+ KB\n"
     ]
    }
   ],
   "source": [
    "data.info()"
   ]
  },
  {
   "cell_type": "code",
   "execution_count": 5,
   "id": "f97f1fbc",
   "metadata": {},
   "outputs": [],
   "source": [
    "X = data[['temperature', 'altitude', 'pressure']]  \n",
    "y = data['zone_class']\n"
   ]
  },
  {
   "cell_type": "code",
   "execution_count": 6,
   "id": "2dbd5007",
   "metadata": {},
   "outputs": [],
   "source": [
    "from sklearn.model_selection import train_test_split\n",
    "from sklearn.preprocessing import StandardScaler"
   ]
  },
  {
   "cell_type": "code",
   "execution_count": 7,
   "id": "fb33e53b",
   "metadata": {},
   "outputs": [],
   "source": [
    "X_train, X_test, y_train, y_test = train_test_split(X, y, test_size=0.2, random_state=0)"
   ]
  },
  {
   "cell_type": "code",
   "execution_count": 8,
   "id": "d883505b",
   "metadata": {},
   "outputs": [],
   "source": [
    "scaler = StandardScaler()\n",
    "X_train_scaled = scaler.fit_transform(X_train)\n",
    "X_test_scaled = scaler.transform(X_test)"
   ]
  },
  {
   "cell_type": "code",
   "execution_count": 9,
   "id": "3ade81d8",
   "metadata": {},
   "outputs": [
    {
     "name": "stdout",
     "output_type": "stream",
     "text": [
      "0.959375\n"
     ]
    }
   ],
   "source": [
    "from sklearn.neighbors import KNeighborsClassifier\n",
    "\n",
    "knn = KNeighborsClassifier(n_neighbors=3)\n",
    "knn.fit(X_train_scaled, y_train)\n",
    "\n",
    "y_pred = knn.predict(X_test_scaled)\n",
    "\n",
    "accuracy = knn.score(X_test_scaled, y_test)\n",
    "print(accuracy)"
   ]
  },
  {
   "cell_type": "code",
   "execution_count": 10,
   "id": "6080d9c7",
   "metadata": {},
   "outputs": [
    {
     "name": "stdout",
     "output_type": "stream",
     "text": [
      "Accuracy: 0.959375\n",
      "Classification Report:\n",
      "               precision    recall  f1-score   support\n",
      "\n",
      "  Cool_Humid       0.93      0.99      0.96       523\n",
      "     Hot_Dry       0.96      1.00      0.98       540\n",
      "    Unstable       0.99      0.89      0.94       537\n",
      "\n",
      "    accuracy                           0.96      1600\n",
      "   macro avg       0.96      0.96      0.96      1600\n",
      "weighted avg       0.96      0.96      0.96      1600\n",
      "\n"
     ]
    }
   ],
   "source": [
    "from sklearn.metrics import classification_report, accuracy_score\n",
    "\n",
    "print(\"Accuracy:\", accuracy_score(y_test, y_pred))\n",
    "print(\"Classification Report:\\n\", classification_report(y_test, y_pred))"
   ]
  },
  {
   "cell_type": "code",
   "execution_count": 11,
   "id": "44e850f8",
   "metadata": {},
   "outputs": [
    {
     "name": "stdout",
     "output_type": "stream",
     "text": [
      "Cross-validation scores: [0.94125  0.924375 0.9325   0.936875 0.92375 ]\n",
      "Mean accuracy: 0.9317500000000001\n"
     ]
    }
   ],
   "source": [
    "from sklearn.model_selection import cross_val_score\n",
    "import numpy as np\n",
    "\n",
    "scores = cross_val_score(knn, X, y, cv=5)  # 5-fold cross-validation\n",
    "print(\"Cross-validation scores:\", scores)\n",
    "print(\"Mean accuracy:\", np.mean(scores))\n"
   ]
  },
  {
   "cell_type": "code",
   "execution_count": 12,
   "id": "d32fe3d1",
   "metadata": {},
   "outputs": [
    {
     "name": "stdout",
     "output_type": "stream",
     "text": [
      "k=3, Mean CV Accuracy: 0.932\n",
      "k=5, Mean CV Accuracy: 0.922\n",
      "k=7, Mean CV Accuracy: 0.912\n",
      "k=9, Mean CV Accuracy: 0.906\n"
     ]
    }
   ],
   "source": [
    "for k in [3, 5, 7, 9]:\n",
    "    knn = KNeighborsClassifier(n_neighbors=k)\n",
    "    scores = cross_val_score(knn, X, y, cv=5)\n",
    "    print(f\"k={k}, Mean CV Accuracy: {np.mean(scores):.3f}\")\n"
   ]
  }
 ],
 "metadata": {
  "kernelspec": {
   "display_name": "base",
   "language": "python",
   "name": "python3"
  },
  "language_info": {
   "codemirror_mode": {
    "name": "ipython",
    "version": 3
   },
   "file_extension": ".py",
   "mimetype": "text/x-python",
   "name": "python",
   "nbconvert_exporter": "python",
   "pygments_lexer": "ipython3",
   "version": "3.12.4"
  }
 },
 "nbformat": 4,
 "nbformat_minor": 5
}
